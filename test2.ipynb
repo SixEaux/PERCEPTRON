{
 "cells": [
  {
   "cell_type": "code",
   "id": "initial_id",
   "metadata": {
    "collapsed": true,
    "ExecuteTime": {
     "end_time": "2025-03-02T19:03:02.631722Z",
     "start_time": "2025-03-02T19:03:02.612256Z"
    }
   },
   "source": [
    "import numpy as np\n",
    "from more_itertools import chunked\n",
    "\n",
    "a = [[1,2,3,4,5], [6,7,8,9,10], [11, 6,7,8,9]]\n",
    "\n",
    "list(chunked(a, 2))"
   ],
   "outputs": [
    {
     "data": {
      "text/plain": [
       "[[[1, 2, 3, 4, 5], [6, 7, 8, 9, 10]], [[11, 6, 7, 8, 9]]]"
      ]
     },
     "execution_count": 7,
     "metadata": {},
     "output_type": "execute_result"
    }
   ],
   "execution_count": 7
  }
 ],
 "metadata": {
  "kernelspec": {
   "display_name": "Python 3",
   "language": "python",
   "name": "python3"
  },
  "language_info": {
   "codemirror_mode": {
    "name": "ipython",
    "version": 2
   },
   "file_extension": ".py",
   "mimetype": "text/x-python",
   "name": "python",
   "nbconvert_exporter": "python",
   "pygments_lexer": "ipython2",
   "version": "2.7.6"
  }
 },
 "nbformat": 4,
 "nbformat_minor": 5
}
