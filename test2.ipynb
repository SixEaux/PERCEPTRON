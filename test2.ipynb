{
 "cells": [
  {
   "cell_type": "code",
   "id": "initial_id",
   "metadata": {
    "collapsed": true,
    "ExecuteTime": {
     "end_time": "2025-03-02T19:39:07.933630Z",
     "start_time": "2025-03-02T19:39:07.928103Z"
    }
   },
   "source": [
    "import numpy as np\n",
    "from more_itertools import chunked\n",
    "\n",
    "a = np.array([[1,2,3,4,5], [6,7,8,9,10], [11, 6,7,8,9]])\n",
    "\n",
    "print(a + (np.array([[1], [2], [3]])))"
   ],
   "outputs": [
    {
     "name": "stdout",
     "output_type": "stream",
     "text": [
      "[[ 2  3  4  5  6]\n",
      " [ 8  9 10 11 12]\n",
      " [14  9 10 11 12]]\n"
     ]
    }
   ],
   "execution_count": 9
  }
 ],
 "metadata": {
  "kernelspec": {
   "display_name": "Python 3",
   "language": "python",
   "name": "python3"
  },
  "language_info": {
   "codemirror_mode": {
    "name": "ipython",
    "version": 2
   },
   "file_extension": ".py",
   "mimetype": "text/x-python",
   "name": "python",
   "nbconvert_exporter": "python",
   "pygments_lexer": "ipython2",
   "version": "2.7.6"
  }
 },
 "nbformat": 4,
 "nbformat_minor": 5
}
