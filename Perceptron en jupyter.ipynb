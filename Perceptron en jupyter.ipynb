{
 "cells": [
  {
   "cell_type": "code",
   "id": "initial_id",
   "metadata": {
    "collapsed": true,
    "ExecuteTime": {
     "end_time": "2024-11-17T14:35:45.804215Z",
     "start_time": "2024-11-17T14:35:44.548440Z"
    }
   },
   "source": [
    "import numpy as np\n",
    "import pickle"
   ],
   "outputs": [],
   "execution_count": 1
  },
  {
   "metadata": {
    "ExecuteTime": {
     "end_time": "2024-11-17T14:35:55.706221Z",
     "start_time": "2024-11-17T14:35:45.936360Z"
    }
   },
   "cell_type": "code",
   "source": [
    "with open('valeursentraine', 'rb') as f:\n",
    "    valeurs = pickle.load(f)\n",
    "\n",
    "with open('pixelsentraine', 'rb') as f:\n",
    "    pixels = pickle.load(f)"
   ],
   "id": "3b8cb914cf4f2c01",
   "outputs": [],
   "execution_count": 2
  },
  {
   "metadata": {
    "ExecuteTime": {
     "end_time": "2024-11-17T14:35:57.591737Z",
     "start_time": "2024-11-17T14:35:57.583090Z"
    }
   },
   "cell_type": "code",
   "source": [
    "class ImageReader():\n",
    "    def __init__(self):\n",
    "        self.rng = np.random.default_rng()\n",
    "\n",
    "    def fakeImg(self, size):\n",
    "        image = self.rng.integers ( 0 ,  255 , size*size)\n",
    "        image.reshape((size,size))\n",
    "        return image\n",
    "\n"
   ],
   "id": "3f42e2aba7b82bfb",
   "outputs": [],
   "execution_count": 3
  },
  {
   "metadata": {
    "ExecuteTime": {
     "end_time": "2024-11-17T14:35:57.633169Z",
     "start_time": "2024-11-17T14:35:57.621802Z"
    }
   },
   "cell_type": "code",
   "source": [
    "\n",
    "class Perceptron:\n",
    "    def __init__(self,nbneurones, coefcv = 0.1, iterations=1000, sup = 0):\n",
    "        self.iter = iterations\n",
    "        self.nb = nbneurones\n",
    "        self.neurones = [None for i in range(nbneurones)]\n",
    "        self.poids = [1 for i in range(nbneurones)]\n",
    "        self.cvcoef = coefcv\n",
    "        self.sup = sup\n",
    "        self.biais = 1\n",
    "\n",
    "\n",
    "    def fctactiv(self, x):\n",
    "        if x>self.sup:\n",
    "            return 1\n",
    "        else:\n",
    "            return 0\n",
    "\n",
    "    def produit(self, tab1,tab2):\n",
    "        fx = 0\n",
    "        for i in range(len(tab1)):\n",
    "            fx += tab1[i]*tab2[i]\n",
    "        return fx\n",
    "\n",
    "\n",
    "    def changerpoids(self, attendu, observation, input):\n",
    "        #si bomne reponse on garde les poids, si erreur pensant que c'est le chiffre attendu - reponse = -1 sinon inverse = 1\n",
    "        for i in range(1, len(self.poids)):\n",
    "            self.poids[i] = self.cvcoef * (attendu[i] - observation[i]) * input[i]\n",
    "        # self.biais += self.cvcoef * (attendu[-1] - observation[-1]) il faut voir comment le changer\n",
    "\n",
    "\n",
    "\n",
    "    def prediction(self, input):\n",
    "        attendu = self.produit(self.poids, input)\n",
    "        activ = self.fctactiv(attendu)\n",
    "        return 1 if activ > 1 else 0"
   ],
   "id": "d2bc5557d7be8036",
   "outputs": [],
   "execution_count": 4
  },
  {
   "metadata": {},
   "cell_type": "code",
   "outputs": [],
   "execution_count": null,
   "source": "",
   "id": "43374374c4247b4b"
  }
 ],
 "metadata": {
  "kernelspec": {
   "display_name": "Python 3",
   "language": "python",
   "name": "python3"
  },
  "language_info": {
   "codemirror_mode": {
    "name": "ipython",
    "version": 2
   },
   "file_extension": ".py",
   "mimetype": "text/x-python",
   "name": "python",
   "nbconvert_exporter": "python",
   "pygments_lexer": "ipython2",
   "version": "2.7.6"
  }
 },
 "nbformat": 4,
 "nbformat_minor": 5
}
