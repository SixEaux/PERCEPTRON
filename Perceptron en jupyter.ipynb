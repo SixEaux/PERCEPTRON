{
 "cells": [
  {
   "cell_type": "code",
   "id": "initial_id",
   "metadata": {
    "collapsed": true,
    "ExecuteTime": {
     "end_time": "2024-11-18T18:00:46.665015Z",
     "start_time": "2024-11-18T18:00:46.539433Z"
    }
   },
   "source": [
    "import numpy as np\n",
    "import pickle\n",
    "import pprint"
   ],
   "outputs": [],
   "execution_count": 1
  },
  {
   "metadata": {
    "ExecuteTime": {
     "end_time": "2024-11-18T18:00:47.894143Z",
     "start_time": "2024-11-18T18:00:46.673145Z"
    }
   },
   "cell_type": "code",
   "source": [
    "with open('valeursentraine', 'rb') as f:\n",
    "    valeurs = pickle.load(f)\n",
    "\n",
    "with open('pixelsentraine', 'rb') as f:\n",
    "    pixels = pickle.load(f)\n",
    "print(pixels[0])\n",
    "print(len(pixels[0]))\n",
    "print(len(pixels))"
   ],
   "id": "3b8cb914cf4f2c01",
   "outputs": [
    {
     "name": "stdout",
     "output_type": "stream",
     "text": [
      "[0, 0, 0, 0, 0, 0, 0, 0, 0, 0, 0, 0, 0, 0, 0, 0, 0, 0, 0, 0, 0, 0, 0, 0, 0, 0, 0, 0, 0, 0, 0, 0, 0, 0, 0, 0, 0, 0, 0, 0, 0, 0, 0, 0, 0, 0, 0, 0, 0, 0, 0, 0, 0, 0, 0, 0, 0, 0, 0, 0, 0, 0, 0, 0, 0, 0, 0, 0, 0, 0, 0, 0, 0, 0, 0, 0, 0, 0, 0, 0, 0, 0, 0, 0, 0, 0, 0, 0, 0, 0, 0, 0, 0, 0, 0, 0, 0, 0, 0, 0, 0, 0, 0, 0, 0, 0, 0, 0, 0, 0, 0, 0, 0, 0, 0, 0, 0, 0, 0, 0, 0, 0, 0, 0, 0, 0, 0, 0, 0, 0, 0, 0, 0, 0, 0, 0, 0, 0, 0, 0, 0, 0, 0, 0, 0, 0, 0, 0, 0, 0, 0, 0, 3, 18, 18, 18, 126, 136, 175, 26, 166, 255, 247, 127, 0, 0, 0, 0, 0, 0, 0, 0, 0, 0, 0, 0, 30, 36, 94, 154, 170, 253, 253, 253, 253, 253, 225, 172, 253, 242, 195, 64, 0, 0, 0, 0, 0, 0, 0, 0, 0, 0, 0, 49, 238, 253, 253, 253, 253, 253, 253, 253, 253, 251, 93, 82, 82, 56, 39, 0, 0, 0, 0, 0, 0, 0, 0, 0, 0, 0, 0, 18, 219, 253, 253, 253, 253, 253, 198, 182, 247, 241, 0, 0, 0, 0, 0, 0, 0, 0, 0, 0, 0, 0, 0, 0, 0, 0, 0, 0, 80, 156, 107, 253, 253, 205, 11, 0, 43, 154, 0, 0, 0, 0, 0, 0, 0, 0, 0, 0, 0, 0, 0, 0, 0, 0, 0, 0, 0, 14, 1, 154, 253, 90, 0, 0, 0, 0, 0, 0, 0, 0, 0, 0, 0, 0, 0, 0, 0, 0, 0, 0, 0, 0, 0, 0, 0, 0, 0, 139, 253, 190, 2, 0, 0, 0, 0, 0, 0, 0, 0, 0, 0, 0, 0, 0, 0, 0, 0, 0, 0, 0, 0, 0, 0, 0, 0, 11, 190, 253, 70, 0, 0, 0, 0, 0, 0, 0, 0, 0, 0, 0, 0, 0, 0, 0, 0, 0, 0, 0, 0, 0, 0, 0, 0, 0, 35, 241, 225, 160, 108, 1, 0, 0, 0, 0, 0, 0, 0, 0, 0, 0, 0, 0, 0, 0, 0, 0, 0, 0, 0, 0, 0, 0, 0, 81, 240, 253, 253, 119, 25, 0, 0, 0, 0, 0, 0, 0, 0, 0, 0, 0, 0, 0, 0, 0, 0, 0, 0, 0, 0, 0, 0, 0, 45, 186, 253, 253, 150, 27, 0, 0, 0, 0, 0, 0, 0, 0, 0, 0, 0, 0, 0, 0, 0, 0, 0, 0, 0, 0, 0, 0, 0, 16, 93, 252, 253, 187, 0, 0, 0, 0, 0, 0, 0, 0, 0, 0, 0, 0, 0, 0, 0, 0, 0, 0, 0, 0, 0, 0, 0, 0, 0, 249, 253, 249, 64, 0, 0, 0, 0, 0, 0, 0, 0, 0, 0, 0, 0, 0, 0, 0, 0, 0, 0, 0, 0, 0, 46, 130, 183, 253, 253, 207, 2, 0, 0, 0, 0, 0, 0, 0, 0, 0, 0, 0, 0, 0, 0, 0, 0, 0, 0, 0, 39, 148, 229, 253, 253, 253, 250, 182, 0, 0, 0, 0, 0, 0, 0, 0, 0, 0, 0, 0, 0, 0, 0, 0, 0, 0, 24, 114, 221, 253, 253, 253, 253, 201, 78, 0, 0, 0, 0, 0, 0, 0, 0, 0, 0, 0, 0, 0, 0, 0, 0, 0, 23, 66, 213, 253, 253, 253, 253, 198, 81, 2, 0, 0, 0, 0, 0, 0, 0, 0, 0, 0, 0, 0, 0, 0, 0, 0, 18, 171, 219, 253, 253, 253, 253, 195, 80, 9, 0, 0, 0, 0, 0, 0, 0, 0, 0, 0, 0, 0, 0, 0, 0, 0, 55, 172, 226, 253, 253, 253, 253, 244, 133, 11, 0, 0, 0, 0, 0, 0, 0, 0, 0, 0, 0, 0, 0, 0, 0, 0, 0, 0, 136, 253, 253, 253, 212, 135, 132, 16, 0, 0, 0, 0, 0, 0, 0, 0, 0, 0, 0, 0, 0, 0, 0, 0, 0, 0, 0, 0, 0, 0, 0, 0, 0, 0, 0, 0, 0, 0, 0, 0, 0, 0, 0, 0, 0, 0, 0, 0, 0, 0, 0, 0, 0, 0, 0, 0, 0, 0, 0, 0, 0, 0, 0, 0, 0, 0, 0, 0, 0, 0, 0, 0, 0, 0, 0, 0, 0, 0, 0, 0, 0, 0, 0, 0, 0, 0, 0, 0, 0, 0, 0, 0, 0, 0, 0, 0, 0, 0, 0, 0, 0, 0, 0, 0, 0, 0, 0, 0]\n",
      "784\n",
      "60000\n"
     ]
    }
   ],
   "execution_count": 2
  },
  {
   "metadata": {
    "ExecuteTime": {
     "end_time": "2024-11-18T18:00:49.587646Z",
     "start_time": "2024-11-18T18:00:49.583471Z"
    }
   },
   "cell_type": "code",
   "source": [
    "class ImageReader():\n",
    "    def __init__(self):\n",
    "        self.rng = np.random.default_rng()\n",
    "\n",
    "    def fakeImg(self, size):\n",
    "        image = self.rng.integers ( 0 ,  255 , size*size)\n",
    "        image.reshape((size,size))\n",
    "        return image\n",
    "\n"
   ],
   "id": "3f42e2aba7b82bfb",
   "outputs": [],
   "execution_count": 3
  },
  {
   "metadata": {
    "ExecuteTime": {
     "end_time": "2024-11-18T18:11:57.688696Z",
     "start_time": "2024-11-18T18:11:57.680938Z"
    }
   },
   "cell_type": "code",
   "source": [
    "\n",
    "class Perceptron:\n",
    "    def __init__(self,nbneurones, *, coefcv = 0.1, iterations=1000, seuil = 0):\n",
    "        self.iter = iterations\n",
    "        self.nb = nbneurones\n",
    "        self.poids = [1 for _ in range(nbneurones+1)]\n",
    "        self.cvcoef = coefcv\n",
    "        self.seuil = seuil\n",
    "        self.biais = 1\n",
    "\n",
    "\n",
    "    def fctactiv(self, x):\n",
    "        if x>self.seuil:\n",
    "            return 1\n",
    "        else:\n",
    "            return 0\n",
    "\n",
    "    def produit(self, tab1,tab2):\n",
    "        try:\n",
    "            fx = 0\n",
    "            for i in range(len(tab1)):\n",
    "                fx += tab1[i]*tab2[i]\n",
    "            return fx\n",
    "        except TypeError:\n",
    "            print(tab1,\"\\n\", tab2)\n",
    "            return\n",
    "\n",
    "    def changerpoids(self, attendu, observation, input):\n",
    "        #si bonne reponse on garde les poids, si erreur pensant que c'est le chiffre attendu - reponse = -1 sinon inverse = 1\n",
    "        vrainput = self.vraiinput(input)\n",
    "        for i in range(1, len(self.poids)):\n",
    "            self.poids[i] = self.cvcoef * (attendu - observation) * vrainput[i]\n",
    "        self.poids[0] += self.cvcoef * (attendu - observation)\n",
    "        print(self.poids)\n",
    "\n",
    "\n",
    "\n",
    "    def vraivaleur(self, recherchee, valeur):\n",
    "        return 1 if recherchee == valeur else 0\n",
    "\n",
    "    def vraiinput(self, input):\n",
    "        return [self.biais] + input\n",
    "\n",
    "    def prediction(self, input):\n",
    "        vrainput = self.vraiinput(input)\n",
    "        attendu = self.produit(self.poids, vrainput)\n",
    "        activ = self.fctactiv(attendu)\n",
    "        return 1 if activ > 1 else 0\n",
    "\n",
    "    def entrainementuns(self, pix, val):#erreur de penser\n",
    "        for fig in range(len(pix)):\n",
    "            pred = self.prediction(pix[fig])\n",
    "            self.changerpoids(self.vraivaleur(1, val[fig]), pred, pix[fig])"
   ],
   "id": "d2bc5557d7be8036",
   "outputs": [],
   "execution_count": 19
  },
  {
   "metadata": {
    "ExecuteTime": {
     "end_time": "2024-11-18T18:12:04.664826Z",
     "start_time": "2024-11-18T18:11:59.964924Z"
    }
   },
   "cell_type": "code",
   "source": [
    "P = Perceptron(784)\n",
    "P.entrainementuns(pixels,valeurs)"
   ],
   "id": "43374374c4247b4b",
   "outputs": [
    {
     "name": "stderr",
     "output_type": "stream",
     "text": [
      "IOPub data rate exceeded.\n",
      "The Jupyter server will temporarily stop sending output\n",
      "to the client in order to avoid crashing it.\n",
      "To change this limit, set the config variable\n",
      "`--ServerApp.iopub_data_rate_limit`.\n",
      "\n",
      "Current values:\n",
      "ServerApp.iopub_data_rate_limit=1000000.0 (bytes/sec)\n",
      "ServerApp.rate_limit_window=3.0 (secs)\n",
      "\n"
     ]
    },
    {
     "ename": "KeyboardInterrupt",
     "evalue": "",
     "output_type": "error",
     "traceback": [
      "\u001B[1;31m---------------------------------------------------------------------------\u001B[0m",
      "\u001B[1;31mKeyboardInterrupt\u001B[0m                         Traceback (most recent call last)",
      "Cell \u001B[1;32mIn[20], line 2\u001B[0m\n\u001B[0;32m      1\u001B[0m P \u001B[38;5;241m=\u001B[39m Perceptron(\u001B[38;5;241m784\u001B[39m)\n\u001B[1;32m----> 2\u001B[0m \u001B[43mP\u001B[49m\u001B[38;5;241;43m.\u001B[39;49m\u001B[43mentrainementuns\u001B[49m\u001B[43m(\u001B[49m\u001B[43mpixels\u001B[49m\u001B[43m,\u001B[49m\u001B[43mvaleurs\u001B[49m\u001B[43m)\u001B[49m\n",
      "Cell \u001B[1;32mIn[19], line 52\u001B[0m, in \u001B[0;36mPerceptron.entrainementuns\u001B[1;34m(self, pix, val)\u001B[0m\n\u001B[0;32m     50\u001B[0m \u001B[38;5;28;01mfor\u001B[39;00m fig \u001B[38;5;129;01min\u001B[39;00m \u001B[38;5;28mrange\u001B[39m(\u001B[38;5;28mlen\u001B[39m(pix)):\n\u001B[0;32m     51\u001B[0m     pred \u001B[38;5;241m=\u001B[39m \u001B[38;5;28mself\u001B[39m\u001B[38;5;241m.\u001B[39mprediction(pix[fig])\n\u001B[1;32m---> 52\u001B[0m     \u001B[38;5;28;43mself\u001B[39;49m\u001B[38;5;241;43m.\u001B[39;49m\u001B[43mchangerpoids\u001B[49m\u001B[43m(\u001B[49m\u001B[38;5;28;43mself\u001B[39;49m\u001B[38;5;241;43m.\u001B[39;49m\u001B[43mvraivaleur\u001B[49m\u001B[43m(\u001B[49m\u001B[38;5;241;43m1\u001B[39;49m\u001B[43m,\u001B[49m\u001B[43m \u001B[49m\u001B[43mval\u001B[49m\u001B[43m[\u001B[49m\u001B[43mfig\u001B[49m\u001B[43m]\u001B[49m\u001B[43m)\u001B[49m\u001B[43m,\u001B[49m\u001B[43m \u001B[49m\u001B[43mpred\u001B[49m\u001B[43m,\u001B[49m\u001B[43m \u001B[49m\u001B[43mpix\u001B[49m\u001B[43m[\u001B[49m\u001B[43mfig\u001B[49m\u001B[43m]\u001B[49m\u001B[43m)\u001B[49m\n",
      "Cell \u001B[1;32mIn[19], line 33\u001B[0m, in \u001B[0;36mPerceptron.changerpoids\u001B[1;34m(self, attendu, observation, input)\u001B[0m\n\u001B[0;32m     31\u001B[0m     \u001B[38;5;28mself\u001B[39m\u001B[38;5;241m.\u001B[39mpoids[i] \u001B[38;5;241m=\u001B[39m \u001B[38;5;28mself\u001B[39m\u001B[38;5;241m.\u001B[39mcvcoef \u001B[38;5;241m*\u001B[39m (attendu \u001B[38;5;241m-\u001B[39m observation) \u001B[38;5;241m*\u001B[39m vrainput[i]\n\u001B[0;32m     32\u001B[0m \u001B[38;5;28mself\u001B[39m\u001B[38;5;241m.\u001B[39mpoids[\u001B[38;5;241m0\u001B[39m] \u001B[38;5;241m+\u001B[39m\u001B[38;5;241m=\u001B[39m \u001B[38;5;28mself\u001B[39m\u001B[38;5;241m.\u001B[39mcvcoef \u001B[38;5;241m*\u001B[39m (attendu \u001B[38;5;241m-\u001B[39m observation)\n\u001B[1;32m---> 33\u001B[0m \u001B[38;5;28mprint\u001B[39m(\u001B[38;5;28mself\u001B[39m\u001B[38;5;241m.\u001B[39mpoids)\n",
      "File \u001B[1;32m~\\PycharmProjects\\PERCEPTRON\\.venv\\Lib\\site-packages\\ipykernel\\iostream.py:664\u001B[0m, in \u001B[0;36mOutStream.write\u001B[1;34m(self, string)\u001B[0m\n\u001B[0;32m    655\u001B[0m \u001B[38;5;28;01mdef\u001B[39;00m \u001B[38;5;21mwrite\u001B[39m(\u001B[38;5;28mself\u001B[39m, string: \u001B[38;5;28mstr\u001B[39m) \u001B[38;5;241m-\u001B[39m\u001B[38;5;241m>\u001B[39m Optional[\u001B[38;5;28mint\u001B[39m]:  \u001B[38;5;66;03m# type:ignore[override]\u001B[39;00m\n\u001B[0;32m    656\u001B[0m \u001B[38;5;250m    \u001B[39m\u001B[38;5;124;03m\"\"\"Write to current stream after encoding if necessary\u001B[39;00m\n\u001B[0;32m    657\u001B[0m \n\u001B[0;32m    658\u001B[0m \u001B[38;5;124;03m    Returns\u001B[39;00m\n\u001B[1;32m   (...)\u001B[0m\n\u001B[0;32m    662\u001B[0m \n\u001B[0;32m    663\u001B[0m \u001B[38;5;124;03m    \"\"\"\u001B[39;00m\n\u001B[1;32m--> 664\u001B[0m     parent \u001B[38;5;241m=\u001B[39m \u001B[38;5;28;43mself\u001B[39;49m\u001B[38;5;241;43m.\u001B[39;49m\u001B[43mparent_header\u001B[49m\n\u001B[0;32m    666\u001B[0m     \u001B[38;5;28;01mif\u001B[39;00m \u001B[38;5;129;01mnot\u001B[39;00m \u001B[38;5;28misinstance\u001B[39m(string, \u001B[38;5;28mstr\u001B[39m):\n\u001B[0;32m    667\u001B[0m         msg \u001B[38;5;241m=\u001B[39m \u001B[38;5;124mf\u001B[39m\u001B[38;5;124m\"\u001B[39m\u001B[38;5;124mwrite() argument must be str, not \u001B[39m\u001B[38;5;132;01m{\u001B[39;00m\u001B[38;5;28mtype\u001B[39m(string)\u001B[38;5;132;01m}\u001B[39;00m\u001B[38;5;124m\"\u001B[39m  \u001B[38;5;66;03m# type:ignore[unreachable]\u001B[39;00m\n",
      "File \u001B[1;32m~\\PycharmProjects\\PERCEPTRON\\.venv\\Lib\\site-packages\\ipykernel\\iostream.py:505\u001B[0m, in \u001B[0;36mOutStream.parent_header\u001B[1;34m(self)\u001B[0m\n\u001B[0;32m    502\u001B[0m             msg \u001B[38;5;241m=\u001B[39m \u001B[38;5;124m\"\u001B[39m\u001B[38;5;124mecho argument must be a file-like object\u001B[39m\u001B[38;5;124m\"\u001B[39m\n\u001B[0;32m    503\u001B[0m             \u001B[38;5;28;01mraise\u001B[39;00m \u001B[38;5;167;01mValueError\u001B[39;00m(msg)\n\u001B[1;32m--> 505\u001B[0m \u001B[38;5;129m@property\u001B[39m\n\u001B[0;32m    506\u001B[0m \u001B[38;5;28;01mdef\u001B[39;00m \u001B[38;5;21mparent_header\u001B[39m(\u001B[38;5;28mself\u001B[39m):\n\u001B[0;32m    507\u001B[0m     \u001B[38;5;28;01mtry\u001B[39;00m:\n\u001B[0;32m    508\u001B[0m         \u001B[38;5;66;03m# asyncio-specific\u001B[39;00m\n\u001B[0;32m    509\u001B[0m         \u001B[38;5;28;01mreturn\u001B[39;00m \u001B[38;5;28mself\u001B[39m\u001B[38;5;241m.\u001B[39m_parent_header\u001B[38;5;241m.\u001B[39mget()\n",
      "\u001B[1;31mKeyboardInterrupt\u001B[0m: "
     ]
    }
   ],
   "execution_count": 20
  },
  {
   "metadata": {
    "ExecuteTime": {
     "end_time": "2024-11-18T18:09:49.986968Z",
     "start_time": "2024-11-18T18:09:49.982280Z"
    }
   },
   "cell_type": "code",
   "source": [
    "def cherche1(tab):\n",
    "    for i in range(len(tab)):\n",
    "        if tab[i] == 1:\n",
    "            return i\n",
    "print(P.prediction(pixels[cherche1(valeurs)]))\n",
    "print(P.vraivaleur(1, valeurs[cherche1(valeurs)]))"
   ],
   "id": "6c5a0c56c294ec3d",
   "outputs": [
    {
     "name": "stdout",
     "output_type": "stream",
     "text": [
      "0\n",
      "1\n"
     ]
    }
   ],
   "execution_count": 18
  }
 ],
 "metadata": {
  "kernelspec": {
   "display_name": "Python 3",
   "language": "python",
   "name": "python3"
  },
  "language_info": {
   "codemirror_mode": {
    "name": "ipython",
    "version": 2
   },
   "file_extension": ".py",
   "mimetype": "text/x-python",
   "name": "python",
   "nbconvert_exporter": "python",
   "pygments_lexer": "ipython2",
   "version": "2.7.6"
  }
 },
 "nbformat": 4,
 "nbformat_minor": 5
}
