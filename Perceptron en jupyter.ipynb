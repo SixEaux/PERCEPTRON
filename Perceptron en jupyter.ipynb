{
 "cells": [
  {
   "cell_type": "code",
   "id": "initial_id",
   "metadata": {
    "collapsed": true,
    "ExecuteTime": {
     "end_time": "2024-11-18T09:08:35.315302Z",
     "start_time": "2024-11-18T09:08:35.308120Z"
    }
   },
   "source": [
    "import numpy as np\n",
    "import pickle\n",
    "import pprint"
   ],
   "outputs": [],
   "execution_count": 47
  },
  {
   "metadata": {
    "ExecuteTime": {
     "end_time": "2024-11-18T09:08:39.474585Z",
     "start_time": "2024-11-18T09:08:36.513913Z"
    }
   },
   "cell_type": "code",
   "source": [
    "with open('valeursentraine', 'rb') as f:\n",
    "    valeurs = pickle.load(f)\n",
    "\n",
    "with open('pixelsentraine', 'rb') as f:\n",
    "    pixels = pickle.load(f)\n",
    "print(pixels[0])\n",
    "print(len(pixels[0]))\n",
    "print(len(pixels))"
   ],
   "id": "3b8cb914cf4f2c01",
   "outputs": [
    {
     "name": "stdout",
     "output_type": "stream",
     "text": [
      "[0, 0, 0, 0, 0, 0, 0, 0, 0, 0, 0, 0, 0, 0, 0, 0, 0, 0, 0, 0, 0, 0, 0, 0, 0, 0, 0, 0, 0, 0, 0, 0, 0, 0, 0, 0, 0, 0, 0, 0, 0, 0, 0, 0, 0, 0, 0, 0, 0, 0, 0, 0, 0, 0, 0, 0, 0, 0, 0, 0, 0, 0, 0, 0, 0, 0, 0, 0, 0, 0, 0, 0, 0, 0, 0, 0, 0, 0, 0, 0, 0, 0, 0, 0, 0, 0, 0, 0, 0, 0, 0, 0, 0, 0, 0, 0, 0, 0, 0, 0, 0, 0, 0, 0, 0, 0, 0, 0, 0, 0, 0, 0, 0, 0, 0, 0, 0, 0, 0, 0, 0, 0, 0, 0, 0, 0, 0, 0, 0, 0, 0, 0, 0, 0, 0, 0, 0, 0, 0, 0, 0, 0, 0, 0, 0, 0, 0, 0, 0, 0, 0, 0, 3, 18, 18, 18, 126, 136, 175, 26, 166, 255, 247, 127, 0, 0, 0, 0, 0, 0, 0, 0, 0, 0, 0, 0, 30, 36, 94, 154, 170, 253, 253, 253, 253, 253, 225, 172, 253, 242, 195, 64, 0, 0, 0, 0, 0, 0, 0, 0, 0, 0, 0, 49, 238, 253, 253, 253, 253, 253, 253, 253, 253, 251, 93, 82, 82, 56, 39, 0, 0, 0, 0, 0, 0, 0, 0, 0, 0, 0, 0, 18, 219, 253, 253, 253, 253, 253, 198, 182, 247, 241, 0, 0, 0, 0, 0, 0, 0, 0, 0, 0, 0, 0, 0, 0, 0, 0, 0, 0, 80, 156, 107, 253, 253, 205, 11, 0, 43, 154, 0, 0, 0, 0, 0, 0, 0, 0, 0, 0, 0, 0, 0, 0, 0, 0, 0, 0, 0, 14, 1, 154, 253, 90, 0, 0, 0, 0, 0, 0, 0, 0, 0, 0, 0, 0, 0, 0, 0, 0, 0, 0, 0, 0, 0, 0, 0, 0, 0, 139, 253, 190, 2, 0, 0, 0, 0, 0, 0, 0, 0, 0, 0, 0, 0, 0, 0, 0, 0, 0, 0, 0, 0, 0, 0, 0, 0, 11, 190, 253, 70, 0, 0, 0, 0, 0, 0, 0, 0, 0, 0, 0, 0, 0, 0, 0, 0, 0, 0, 0, 0, 0, 0, 0, 0, 0, 35, 241, 225, 160, 108, 1, 0, 0, 0, 0, 0, 0, 0, 0, 0, 0, 0, 0, 0, 0, 0, 0, 0, 0, 0, 0, 0, 0, 0, 81, 240, 253, 253, 119, 25, 0, 0, 0, 0, 0, 0, 0, 0, 0, 0, 0, 0, 0, 0, 0, 0, 0, 0, 0, 0, 0, 0, 0, 45, 186, 253, 253, 150, 27, 0, 0, 0, 0, 0, 0, 0, 0, 0, 0, 0, 0, 0, 0, 0, 0, 0, 0, 0, 0, 0, 0, 0, 16, 93, 252, 253, 187, 0, 0, 0, 0, 0, 0, 0, 0, 0, 0, 0, 0, 0, 0, 0, 0, 0, 0, 0, 0, 0, 0, 0, 0, 0, 249, 253, 249, 64, 0, 0, 0, 0, 0, 0, 0, 0, 0, 0, 0, 0, 0, 0, 0, 0, 0, 0, 0, 0, 0, 46, 130, 183, 253, 253, 207, 2, 0, 0, 0, 0, 0, 0, 0, 0, 0, 0, 0, 0, 0, 0, 0, 0, 0, 0, 0, 39, 148, 229, 253, 253, 253, 250, 182, 0, 0, 0, 0, 0, 0, 0, 0, 0, 0, 0, 0, 0, 0, 0, 0, 0, 0, 24, 114, 221, 253, 253, 253, 253, 201, 78, 0, 0, 0, 0, 0, 0, 0, 0, 0, 0, 0, 0, 0, 0, 0, 0, 0, 23, 66, 213, 253, 253, 253, 253, 198, 81, 2, 0, 0, 0, 0, 0, 0, 0, 0, 0, 0, 0, 0, 0, 0, 0, 0, 18, 171, 219, 253, 253, 253, 253, 195, 80, 9, 0, 0, 0, 0, 0, 0, 0, 0, 0, 0, 0, 0, 0, 0, 0, 0, 55, 172, 226, 253, 253, 253, 253, 244, 133, 11, 0, 0, 0, 0, 0, 0, 0, 0, 0, 0, 0, 0, 0, 0, 0, 0, 0, 0, 136, 253, 253, 253, 212, 135, 132, 16, 0, 0, 0, 0, 0, 0, 0, 0, 0, 0, 0, 0, 0, 0, 0, 0, 0, 0, 0, 0, 0, 0, 0, 0, 0, 0, 0, 0, 0, 0, 0, 0, 0, 0, 0, 0, 0, 0, 0, 0, 0, 0, 0, 0, 0, 0, 0, 0, 0, 0, 0, 0, 0, 0, 0, 0, 0, 0, 0, 0, 0, 0, 0, 0, 0, 0, 0, 0, 0, 0, 0, 0, 0, 0, 0, 0, 0, 0, 0, 0, 0, 0, 0, 0, 0, 0, 0, 0, 0, 0, 0, 0, 0, 0, 0, 0, 0, 0, 0, 0]\n",
      "784\n",
      "60000\n"
     ]
    }
   ],
   "execution_count": 48
  },
  {
   "metadata": {},
   "cell_type": "code",
   "source": [
    "class ImageReader():\n",
    "    def __init__(self):\n",
    "        self.rng = np.random.default_rng()\n",
    "\n",
    "    def fakeImg(self, size):\n",
    "        image = self.rng.integers ( 0 ,  255 , size*size)\n",
    "        image.reshape((size,size))\n",
    "        return image\n",
    "\n"
   ],
   "id": "3f42e2aba7b82bfb",
   "outputs": [],
   "execution_count": null
  },
  {
   "metadata": {
    "ExecuteTime": {
     "end_time": "2024-11-18T09:08:40.197783Z",
     "start_time": "2024-11-18T09:08:40.140229Z"
    }
   },
   "cell_type": "code",
   "source": [
    "\n",
    "class Perceptron:\n",
    "    def __init__(self,nbneurones, *, coefcv = 0.1, iterations=1000, seuil = 0):\n",
    "        self.iter = iterations\n",
    "        self.nb = nbneurones\n",
    "        self.neurones = [None for i in range(nbneurones)]\n",
    "        self.poids = [1 for i in range(nbneurones)]\n",
    "        self.cvcoef = coefcv\n",
    "        self.seuil = seuil\n",
    "        self.biais = 1\n",
    "\n",
    "\n",
    "    def fctactiv(self, x):\n",
    "        if x>self.seuil:\n",
    "            return 1\n",
    "        else:\n",
    "            return 0\n",
    "\n",
    "    def produit(self, tab1,tab2):\n",
    "        try:\n",
    "            fx = 0\n",
    "            for i in range(len(tab1)):\n",
    "                fx += tab1[i]*tab2[i]\n",
    "            return fx\n",
    "        except TypeError:\n",
    "            print(tab1,\"\\n\", tab2)\n",
    "            return\n",
    "\n",
    "    def changerpoids(self, attendu, observation, input):\n",
    "        #si bomne reponse on garde les poids, si erreur pensant que c'est le chiffre attendu - reponse = -1 sinon inverse = 1\n",
    "        for i in range(1, len(self.poids)):\n",
    "            self.poids[i] = self.cvcoef * (attendu - observation) * input[i]\n",
    "        # self.biais += self.cvcoef * (attendu[-1] - observation[-1]) il faut voir comment le changer\n",
    "\n",
    "\n",
    "    def vraivaleur(self, recherchee, valeur):\n",
    "        return 1 if recherchee == valeur else 0\n",
    "\n",
    "    def prediction(self, input):\n",
    "        attendu = self.produit(self.poids, input)\n",
    "        activ = self.fctactiv(attendu)\n",
    "        return 1 if activ > 1 else 0\n",
    "\n",
    "    def entrainementuns(self, pix, val):#erreur de penser\n",
    "        for fig in range(len(pix)):\n",
    "            pred = self.prediction(pix[fig])\n",
    "            self.changerpoids(self.vraivaleur(1, val[fig]), pred, pix[fig])"
   ],
   "id": "d2bc5557d7be8036",
   "outputs": [],
   "execution_count": 49
  },
  {
   "metadata": {
    "ExecuteTime": {
     "end_time": "2024-11-18T09:11:16.682300Z",
     "start_time": "2024-11-18T09:11:03.903908Z"
    }
   },
   "cell_type": "code",
   "source": [
    "P = Perceptron(784)\n",
    "P.entrainementuns(pixels,valeurs)"
   ],
   "id": "43374374c4247b4b",
   "outputs": [],
   "execution_count": 54
  },
  {
   "metadata": {
    "ExecuteTime": {
     "end_time": "2024-11-18T09:11:18.576786Z",
     "start_time": "2024-11-18T09:11:18.563381Z"
    }
   },
   "cell_type": "code",
   "source": [
    "def cherche1(tab):\n",
    "    for i in range(len(tab)):\n",
    "        if tab[i] == 1:\n",
    "            return i\n",
    "print(P.prediction(pixels[cherche1(valeurs)]))\n",
    "print(P.vraivaleur(1, valeurs[cherche1(valeurs)]))"
   ],
   "id": "6c5a0c56c294ec3d",
   "outputs": [
    {
     "name": "stdout",
     "output_type": "stream",
     "text": [
      "0\n",
      "1\n"
     ]
    }
   ],
   "execution_count": 55
  }
 ],
 "metadata": {
  "kernelspec": {
   "display_name": "Python 3",
   "language": "python",
   "name": "python3"
  },
  "language_info": {
   "codemirror_mode": {
    "name": "ipython",
    "version": 2
   },
   "file_extension": ".py",
   "mimetype": "text/x-python",
   "name": "python",
   "nbconvert_exporter": "python",
   "pygments_lexer": "ipython2",
   "version": "2.7.6"
  }
 },
 "nbformat": 4,
 "nbformat_minor": 5
}
