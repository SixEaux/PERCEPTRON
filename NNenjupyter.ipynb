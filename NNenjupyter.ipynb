{
 "cells": [
  {
   "cell_type": "code",
   "id": "1ee68c5b5330669b",
   "metadata": {
    "ExecuteTime": {
     "end_time": "2025-03-31T19:11:37.837588Z",
     "start_time": "2025-03-31T19:11:37.812291Z"
    }
   },
   "source": [
    "from SuperCNN import CNN\n",
    "\n",
    "from SuperCNN import Parametros\n",
    "\n",
    "from Auxiliares import takeinputs\n"
   ],
   "outputs": [],
   "execution_count": 2
  },
  {
   "metadata": {
    "collapsed": true,
    "ExecuteTime": {
     "end_time": "2025-03-31T19:11:51.294478Z",
     "start_time": "2025-03-31T19:11:38.903698Z"
    }
   },
   "cell_type": "code",
   "source": [
    "val, pix, qcmval, qcmpix, pixelsconv, qcmpixconv = takeinputs()\n",
    "\n",
    "convlay = [(1, \"input\"), (10, \"relu\")]\n",
    "\n",
    "lay = [(64, \"sigmoid\"), (10, \"softmax\")]\n",
    "\n",
    "parametros = Parametros(pix=pix, vales=val, qcmpix=qcmpix, qcmval=qcmval, infolay=lay, infoconvlay=convlay, padding=0, convrapide=True)"
   ],
   "id": "initial_id",
   "outputs": [],
   "execution_count": 3
  },
  {
   "metadata": {
    "ExecuteTime": {
     "end_time": "2025-03-31T19:23:40.815187Z",
     "start_time": "2025-03-31T19:11:52.558479Z"
    }
   },
   "cell_type": "code",
   "source": [
    "g = CNN(parametros)\n",
    "\n",
    "g.train()\n"
   ],
   "id": "a14e89c236f71e16",
   "outputs": [
    {
     "name": "stdout",
     "output_type": "stream",
     "text": [
      "Percentage: 0.0\n",
      "Percentage: 16.666666666666668\n",
      "Percentage: 33.333333333333336\n",
      "Percentage: 50.0\n",
      "Percentage: 66.66666666666667\n",
      "Percentage: 83.33333333333333\n"
     ]
    }
   ],
   "execution_count": 4
  },
  {
   "metadata": {
    "ExecuteTime": {
     "end_time": "2025-03-31T19:23:52.970211Z",
     "start_time": "2025-03-31T19:23:40.837541Z"
    }
   },
   "cell_type": "code",
   "source": "print(g.tauxlent())",
   "id": "9442ed225965e4df",
   "outputs": [
    {
     "name": "stdout",
     "output_type": "stream",
     "text": [
      "89.91\n"
     ]
    }
   ],
   "execution_count": 5
  },
  {
   "metadata": {},
   "cell_type": "code",
   "source": [
    "import pickle\n",
    "\n",
    "with open('parameters.pickle', 'wb') as file:\n",
    "    pickle.dump(g.parameters, file)\n"
   ],
   "id": "bb30b135970a108d",
   "outputs": [],
   "execution_count": null
  },
  {
   "metadata": {},
   "cell_type": "code",
   "source": "",
   "id": "9a764178d9934460",
   "outputs": [],
   "execution_count": null
  }
 ],
 "metadata": {
  "kernelspec": {
   "display_name": "Python 3",
   "language": "python",
   "name": "python3"
  },
  "language_info": {
   "codemirror_mode": {
    "name": "ipython",
    "version": 2
   },
   "file_extension": ".py",
   "mimetype": "text/x-python",
   "name": "python",
   "nbconvert_exporter": "python",
   "pygments_lexer": "ipython2",
   "version": "2.7.6"
  }
 },
 "nbformat": 4,
 "nbformat_minor": 5
}
