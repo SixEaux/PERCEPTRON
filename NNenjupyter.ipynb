{
 "cells": [
  {
   "cell_type": "code",
   "id": "1ee68c5b5330669b",
   "metadata": {
    "ExecuteTime": {
     "end_time": "2025-03-30T11:24:30.789646Z",
     "start_time": "2025-03-30T11:24:30.773125Z"
    }
   },
   "source": [
    "from SuperCNN import CNN\n",
    "\n",
    "from SuperCNN import Parametros\n",
    "\n",
    "from Auxiliares import takeinputs\n"
   ],
   "outputs": [],
   "execution_count": 7
  },
  {
   "metadata": {
    "collapsed": true,
    "ExecuteTime": {
     "end_time": "2025-03-30T11:24:45.621678Z",
     "start_time": "2025-03-30T11:24:32.093002Z"
    }
   },
   "cell_type": "code",
   "source": [
    "val, pix, qcmval, qcmpix, pixelsconv, qcmpixconv = takeinputs()\n",
    "\n",
    "convlay = [(1, \"input\"), (32, \"relu\")]\n",
    "\n",
    "lay = [(64, \"sigmoid\"), (10, \"softmax\")]\n",
    "\n",
    "parametros = Parametros(pix=pix, vales=val, qcmpix=qcmpix, qcmval=qcmval, infolay=lay, infoconvlay=convlay, padding=0, convrapide=True)"
   ],
   "id": "initial_id",
   "outputs": [],
   "execution_count": 8
  },
  {
   "metadata": {
    "ExecuteTime": {
     "end_time": "2025-03-30T11:27:18.602936Z",
     "start_time": "2025-03-30T11:24:54.202931Z"
    }
   },
   "cell_type": "code",
   "source": [
    "g = CNN(parametros)\n",
    "\n",
    "g.train()\n"
   ],
   "id": "a14e89c236f71e16",
   "outputs": [
    {
     "name": "stdout",
     "output_type": "stream",
     "text": [
      "Percentage: 0.0\n"
     ]
    },
    {
     "name": "stderr",
     "output_type": "stream",
     "text": [
      "\n",
      "KeyboardInterrupt\n",
      "\n"
     ]
    }
   ],
   "execution_count": 9
  },
  {
   "metadata": {
    "jupyter": {
     "is_executing": true
    }
   },
   "cell_type": "code",
   "source": "print(g.tauxlent())",
   "id": "9442ed225965e4df",
   "outputs": [],
   "execution_count": null
  },
  {
   "metadata": {},
   "cell_type": "code",
   "source": [
    "import pickle\n",
    "\n",
    "with open('parameters.pickle', 'wb') as file:\n",
    "    pickle.dump(g.parameters, file)\n"
   ],
   "id": "bb30b135970a108d",
   "outputs": [],
   "execution_count": null
  },
  {
   "metadata": {},
   "cell_type": "code",
   "source": "",
   "id": "9a764178d9934460",
   "outputs": [],
   "execution_count": null
  }
 ],
 "metadata": {
  "kernelspec": {
   "display_name": "Python 3",
   "language": "python",
   "name": "python3"
  },
  "language_info": {
   "codemirror_mode": {
    "name": "ipython",
    "version": 2
   },
   "file_extension": ".py",
   "mimetype": "text/x-python",
   "name": "python",
   "nbconvert_exporter": "python",
   "pygments_lexer": "ipython2",
   "version": "2.7.6"
  }
 },
 "nbformat": 4,
 "nbformat_minor": 5
}
