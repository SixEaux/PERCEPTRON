{
 "cells": [
  {
   "cell_type": "code",
   "id": "1ee68c5b5330669b",
   "metadata": {
    "ExecuteTime": {
     "end_time": "2025-03-29T18:48:02.407999Z",
     "start_time": "2025-03-29T18:48:02.392125Z"
    }
   },
   "source": [
    "from SuperCNN import CNN\n",
    "\n",
    "from SuperCNN import Parametros\n",
    "\n",
    "from Auxiliares import takeinputs\n"
   ],
   "outputs": [],
   "execution_count": 6
  },
  {
   "metadata": {
    "collapsed": true,
    "ExecuteTime": {
     "end_time": "2025-03-29T18:48:08.202681Z",
     "start_time": "2025-03-29T18:48:02.941149Z"
    }
   },
   "cell_type": "code",
   "source": [
    "val, pix, qcmval, qcmpix, pixelsconv, qcmpixconv = takeinputs()\n",
    "\n",
    "convlay = [(1, \"input\"), (3, \"relu\")]\n",
    "\n",
    "lay = [(64, \"sigmoid\"), (10, \"softmax\")]\n",
    "\n",
    "parametros = Parametros(pix=pix, vales=val, qcmpix=qcmpix, qcmval=qcmval, infolay=lay, infoconvlay=convlay, padding=0, convrapide=False)"
   ],
   "id": "initial_id",
   "outputs": [],
   "execution_count": 7
  },
  {
   "metadata": {
    "jupyter": {
     "is_executing": true
    },
    "ExecuteTime": {
     "start_time": "2025-03-29T18:48:08.202681Z"
    }
   },
   "cell_type": "code",
   "source": [
    "g = CNN(parametros)\n",
    "\n",
    "g.train()\n"
   ],
   "id": "a14e89c236f71e16",
   "outputs": [
    {
     "name": "stdout",
     "output_type": "stream",
     "text": [
      "Percentage: 0.0\n"
     ]
    }
   ],
   "execution_count": null
  },
  {
   "metadata": {
    "ExecuteTime": {
     "end_time": "2025-03-13T09:13:56.533766Z",
     "start_time": "2025-03-13T09:13:56.491157Z"
    }
   },
   "cell_type": "code",
   "outputs": [],
   "execution_count": 3,
   "source": "print(g.tauxlent())",
   "id": "9442ed225965e4df"
  },
  {
   "metadata": {},
   "cell_type": "code",
   "outputs": [],
   "execution_count": null,
   "source": "",
   "id": "bb30b135970a108d"
  }
 ],
 "metadata": {
  "kernelspec": {
   "display_name": "Python 3",
   "language": "python",
   "name": "python3"
  },
  "language_info": {
   "codemirror_mode": {
    "name": "ipython",
    "version": 2
   },
   "file_extension": ".py",
   "mimetype": "text/x-python",
   "name": "python",
   "nbconvert_exporter": "python",
   "pygments_lexer": "ipython2",
   "version": "2.7.6"
  }
 },
 "nbformat": 4,
 "nbformat_minor": 5
}
