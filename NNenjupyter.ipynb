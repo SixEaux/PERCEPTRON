{
 "cells": [
  {
   "cell_type": "code",
   "id": "1ee68c5b5330669b",
   "metadata": {
    "ExecuteTime": {
     "end_time": "2025-04-02T20:59:33.377299Z",
     "start_time": "2025-04-02T20:59:33.367444Z"
    }
   },
   "source": [
    "from SuperCNN import CNN\n",
    "\n",
    "from SuperCNN import Parametros\n",
    "\n",
    "from Auxiliares import takeinputs\n"
   ],
   "outputs": [],
   "execution_count": 5
  },
  {
   "metadata": {
    "collapsed": true,
    "ExecuteTime": {
     "end_time": "2025-04-02T20:59:45.740818Z",
     "start_time": "2025-04-02T20:59:33.690317Z"
    }
   },
   "cell_type": "code",
   "source": [
    "val, pix, qcmval, qcmpix, pixelsconv, qcmpixconv = takeinputs()\n",
    "\n",
    "convlay = [(1, \"input\"), (5, \"relu\"), (32, \"relu\")]\n",
    "\n",
    "lay = [(64, \"sigmoid\"), (10, \"softmax\")]\n",
    "\n",
    "parametros = Parametros(pix=pix, vales=val, qcmpix=qcmpix, qcmval=qcmval, infolay=lay, infoconvlay=convlay)"
   ],
   "id": "initial_id",
   "outputs": [],
   "execution_count": 6
  },
  {
   "metadata": {
    "ExecuteTime": {
     "end_time": "2025-04-02T20:59:45.892398Z",
     "start_time": "2025-04-02T20:59:45.753523Z"
    }
   },
   "cell_type": "code",
   "source": [
    "g = CNN(parametros)\n",
    "\n",
    "g.train()\n"
   ],
   "id": "a14e89c236f71e16",
   "outputs": [
    {
     "ename": "AttributeError",
     "evalue": "'CNN' object has no attribute 'convolutionnumba'",
     "output_type": "error",
     "traceback": [
      "\u001B[1;31m---------------------------------------------------------------------------\u001B[0m",
      "\u001B[1;31mAttributeError\u001B[0m                            Traceback (most recent call last)",
      "Cell \u001B[1;32mIn[7], line 1\u001B[0m\n\u001B[1;32m----> 1\u001B[0m g \u001B[38;5;241m=\u001B[39m \u001B[43mCNN\u001B[49m\u001B[43m(\u001B[49m\u001B[43mparametros\u001B[49m\u001B[43m)\u001B[49m\n\u001B[0;32m      3\u001B[0m g\u001B[38;5;241m.\u001B[39mtrain()\n",
      "File \u001B[1;32m~\\PycharmProjects\\PERCEPTRON\\SuperCNN.py:74\u001B[0m, in \u001B[0;36mCNN.__init__\u001B[1;34m(self, par)\u001B[0m\n\u001B[0;32m     71\u001B[0m \u001B[38;5;28mself\u001B[39m\u001B[38;5;241m.\u001B[39mpoolstride \u001B[38;5;241m=\u001B[39m par\u001B[38;5;241m.\u001B[39mpoolstride\n\u001B[0;32m     72\u001B[0m \u001B[38;5;28mself\u001B[39m\u001B[38;5;241m.\u001B[39mlenkernelpool \u001B[38;5;241m=\u001B[39m par\u001B[38;5;241m.\u001B[39mkernelpool\n\u001B[1;32m---> 74\u001B[0m \u001B[38;5;28mself\u001B[39m\u001B[38;5;241m.\u001B[39mconvolution \u001B[38;5;241m=\u001B[39m \u001B[38;5;28;43mself\u001B[39;49m\u001B[38;5;241;43m.\u001B[39;49m\u001B[43mconvolutionnumba\u001B[49m\n\u001B[0;32m     75\u001B[0m \u001B[38;5;66;03m# self.pooling = self.poolingnumba\u001B[39;00m\n\u001B[0;32m     76\u001B[0m \u001B[38;5;28mself\u001B[39m\u001B[38;5;241m.\u001B[39mconvdims \u001B[38;5;241m=\u001B[39m [] \u001B[38;5;66;03m# (dimconv, dimpool, nbfiltresentree, nbfiltressortie)\u001B[39;00m\n",
      "\u001B[1;31mAttributeError\u001B[0m: 'CNN' object has no attribute 'convolutionnumba'"
     ]
    }
   ],
   "execution_count": 7
  },
  {
   "metadata": {
    "ExecuteTime": {
     "end_time": "2025-04-01T10:48:14.702301400Z",
     "start_time": "2025-03-31T19:23:40.837541Z"
    }
   },
   "cell_type": "code",
   "source": "print(g.tauxlent())",
   "id": "9442ed225965e4df",
   "outputs": [
    {
     "name": "stdout",
     "output_type": "stream",
     "text": [
      "89.91\n"
     ]
    }
   ],
   "execution_count": 5
  },
  {
   "metadata": {},
   "cell_type": "code",
   "source": [
    "import pickle\n",
    "\n",
    "with open('parameters.pickle', 'wb') as file:\n",
    "    pickle.dump(g.parameters, file)\n"
   ],
   "id": "bb30b135970a108d",
   "outputs": [],
   "execution_count": null
  },
  {
   "metadata": {},
   "cell_type": "code",
   "source": "",
   "id": "9a764178d9934460",
   "outputs": [],
   "execution_count": null
  }
 ],
 "metadata": {
  "kernelspec": {
   "display_name": "Python 3",
   "language": "python",
   "name": "python3"
  },
  "language_info": {
   "codemirror_mode": {
    "name": "ipython",
    "version": 2
   },
   "file_extension": ".py",
   "mimetype": "text/x-python",
   "name": "python",
   "nbconvert_exporter": "python",
   "pygments_lexer": "ipython2",
   "version": "2.7.6"
  }
 },
 "nbformat": 4,
 "nbformat_minor": 5
}
