{
 "cells": [
  {
   "cell_type": "code",
   "id": "1ee68c5b5330669b",
   "metadata": {
    "ExecuteTime": {
     "end_time": "2025-03-30T09:09:53.965904Z",
     "start_time": "2025-03-30T09:09:53.953106Z"
    }
   },
   "source": [
    "from SuperCNN import CNN\n",
    "\n",
    "from SuperCNN import Parametros\n",
    "\n",
    "from Auxiliares import takeinputs\n"
   ],
   "outputs": [],
   "execution_count": 2
  },
  {
   "metadata": {
    "collapsed": true,
    "ExecuteTime": {
     "end_time": "2025-03-30T09:10:58.101927Z",
     "start_time": "2025-03-30T09:10:52.735445Z"
    }
   },
   "cell_type": "code",
   "source": [
    "val, pix, qcmval, qcmpix, pixelsconv, qcmpixconv = takeinputs()\n",
    "\n",
    "convlay = [(1, \"input\"), (32, \"relu\")]\n",
    "\n",
    "lay = [(64, \"sigmoid\"), (10, \"softmax\")]\n",
    "\n",
    "parametros = Parametros(pix=pix, vales=val, qcmpix=qcmpix, qcmval=qcmval, infolay=lay, infoconvlay=convlay, padding=0, convrapide=True)"
   ],
   "id": "initial_id",
   "outputs": [],
   "execution_count": 5
  },
  {
   "metadata": {
    "ExecuteTime": {
     "end_time": "2025-03-30T09:22:58.022357Z",
     "start_time": "2025-03-30T09:10:58.574936Z"
    }
   },
   "cell_type": "code",
   "source": [
    "g = CNN(parametros)\n",
    "\n",
    "g.train()\n"
   ],
   "id": "a14e89c236f71e16",
   "outputs": [
    {
     "name": "stdout",
     "output_type": "stream",
     "text": [
      "Percentage: 0.0\n",
      "Percentage: 16.666666666666668\n"
     ]
    },
    {
     "ename": "KeyboardInterrupt",
     "evalue": "",
     "output_type": "error",
     "traceback": [
      "\u001B[1;31m---------------------------------------------------------------------------\u001B[0m",
      "\u001B[1;31mKeyboardInterrupt\u001B[0m                         Traceback (most recent call last)",
      "Cell \u001B[1;32mIn[6], line 3\u001B[0m\n\u001B[0;32m      1\u001B[0m g \u001B[38;5;241m=\u001B[39m CNN(parametros)\n\u001B[1;32m----> 3\u001B[0m \u001B[43mg\u001B[49m\u001B[38;5;241;43m.\u001B[39;49m\u001B[43mtrain\u001B[49m\u001B[43m(\u001B[49m\u001B[43m)\u001B[49m\n",
      "File \u001B[1;32m~\\PycharmProjects\\PERCEPTRON\\SuperCNN.py:471\u001B[0m, in \u001B[0;36mCNN.train\u001B[1;34m(self)\u001B[0m\n\u001B[0;32m    469\u001B[0m     \u001B[38;5;28mself\u001B[39m\u001B[38;5;241m.\u001B[39mtrainbatch()\n\u001B[0;32m    470\u001B[0m \u001B[38;5;28;01melif\u001B[39;00m \u001B[38;5;28mself\u001B[39m\u001B[38;5;241m.\u001B[39mlenbatch \u001B[38;5;241m==\u001B[39m \u001B[38;5;241m1\u001B[39m:\n\u001B[1;32m--> 471\u001B[0m     \u001B[38;5;28;43mself\u001B[39;49m\u001B[38;5;241;43m.\u001B[39;49m\u001B[43mtrainsimple\u001B[49m\u001B[43m(\u001B[49m\u001B[43m)\u001B[49m\n\u001B[0;32m    472\u001B[0m \u001B[38;5;28;01mreturn\u001B[39;00m\n",
      "File \u001B[1;32m~\\PycharmProjects\\PERCEPTRON\\SuperCNN.py:502\u001B[0m, in \u001B[0;36mCNN.trainsimple\u001B[1;34m(self)\u001B[0m\n\u001B[0;32m    499\u001B[0m \u001B[38;5;28;01mfor\u001B[39;00m p \u001B[38;5;129;01min\u001B[39;00m \u001B[38;5;28mrange\u001B[39m(\u001B[38;5;28mlen\u001B[39m(\u001B[38;5;28mself\u001B[39m\u001B[38;5;241m.\u001B[39mpix)):\n\u001B[0;32m    500\u001B[0m     forw \u001B[38;5;241m=\u001B[39m \u001B[38;5;28mself\u001B[39m\u001B[38;5;241m.\u001B[39mforwardprop(\u001B[38;5;28mself\u001B[39m\u001B[38;5;241m.\u001B[39mpix[p]\u001B[38;5;241m.\u001B[39mreshape(\u001B[38;5;241m28\u001B[39m,\u001B[38;5;241m28\u001B[39m,\u001B[38;5;241m-\u001B[39m\u001B[38;5;241m1\u001B[39m))\n\u001B[1;32m--> 502\u001B[0m     dw, db, loss, dc \u001B[38;5;241m=\u001B[39m \u001B[38;5;28;43mself\u001B[39;49m\u001B[38;5;241;43m.\u001B[39;49m\u001B[43mbackprop\u001B[49m\u001B[43m(\u001B[49m\u001B[38;5;28;43mself\u001B[39;49m\u001B[38;5;241;43m.\u001B[39;49m\u001B[43mvecteur\u001B[49m\u001B[43m(\u001B[49m\u001B[38;5;28;43mself\u001B[39;49m\u001B[38;5;241;43m.\u001B[39;49m\u001B[43mvales\u001B[49m\u001B[43m[\u001B[49m\u001B[43mp\u001B[49m\u001B[43m]\u001B[49m\u001B[43m)\u001B[49m\u001B[43m,\u001B[49m\u001B[43m \u001B[49m\u001B[43mforw\u001B[49m\u001B[43m[\u001B[49m\u001B[38;5;241;43m1\u001B[39;49m\u001B[43m]\u001B[49m\u001B[43m,\u001B[49m\u001B[43m \u001B[49m\u001B[43mforw\u001B[49m\u001B[43m[\u001B[49m\u001B[38;5;241;43m2\u001B[39;49m\u001B[43m]\u001B[49m\u001B[43m,\u001B[49m\u001B[43m \u001B[49m\u001B[43mforw\u001B[49m\u001B[43m[\u001B[49m\u001B[38;5;241;43m3\u001B[39;49m\u001B[43m]\u001B[49m\u001B[43m,\u001B[49m\u001B[43m \u001B[49m\u001B[43mforw\u001B[49m\u001B[43m[\u001B[49m\u001B[38;5;241;43m4\u001B[39;49m\u001B[43m]\u001B[49m\u001B[43m,\u001B[49m\u001B[43m \u001B[49m\u001B[38;5;241;43m1\u001B[39;49m\u001B[43m)\u001B[49m\n\u001B[0;32m    504\u001B[0m     \u001B[38;5;28mself\u001B[39m\u001B[38;5;241m.\u001B[39mactualiseweights(dw, db, \u001B[38;5;241m1\u001B[39m, dc)\n\u001B[0;32m    506\u001B[0m     \u001B[38;5;28;01mif\u001B[39;00m p \u001B[38;5;241m%\u001B[39m \u001B[38;5;241m10000\u001B[39m \u001B[38;5;241m==\u001B[39m \u001B[38;5;241m0\u001B[39m:\n",
      "File \u001B[1;32m~\\PycharmProjects\\PERCEPTRON\\SuperCNN.py:431\u001B[0m, in \u001B[0;36mCNN.backprop\u001B[1;34m(self, expected, zslay, zsconv, activationslay, activationsconv, nbinp)\u001B[0m\n\u001B[0;32m    427\u001B[0m s \u001B[38;5;241m=\u001B[39m \u001B[38;5;28mself\u001B[39m\u001B[38;5;241m.\u001B[39mconvdims[\u001B[38;5;241m-\u001B[39m\u001B[38;5;241m1\u001B[39m] \u001B[38;5;66;03m#dimensiones ultimo conv\u001B[39;00m\n\u001B[0;32m    429\u001B[0m delta \u001B[38;5;241m=\u001B[39m (np\u001B[38;5;241m.\u001B[39mdot(ultimoweight\u001B[38;5;241m.\u001B[39mT, delta) \u001B[38;5;241m*\u001B[39m ultimadif)\u001B[38;5;241m.\u001B[39mreshape(s[\u001B[38;5;241m1\u001B[39m],s[\u001B[38;5;241m1\u001B[39m], s[\u001B[38;5;241m3\u001B[39m]) \u001B[38;5;66;03m#calcular ultimo error de nn\u001B[39;00m\n\u001B[1;32m--> 431\u001B[0m delta \u001B[38;5;241m=\u001B[39m \u001B[38;5;28;43mself\u001B[39;49m\u001B[38;5;241;43m.\u001B[39;49m\u001B[43mbackpool\u001B[49m\u001B[43m(\u001B[49m\u001B[43mdelta\u001B[49m\u001B[43m,\u001B[49m\u001B[43m \u001B[49m\u001B[43m(\u001B[49m\u001B[43ms\u001B[49m\u001B[43m[\u001B[49m\u001B[38;5;241;43m0\u001B[39;49m\u001B[43m]\u001B[49m\u001B[43m,\u001B[49m\u001B[43m \u001B[49m\u001B[43ms\u001B[49m\u001B[43m[\u001B[49m\u001B[38;5;241;43m0\u001B[39;49m\u001B[43m]\u001B[49m\u001B[43m,\u001B[49m\u001B[43m \u001B[49m\u001B[43ms\u001B[49m\u001B[43m[\u001B[49m\u001B[38;5;241;43m3\u001B[39;49m\u001B[43m]\u001B[49m\u001B[43m)\u001B[49m\u001B[43m)\u001B[49m\u001B[38;5;241m.\u001B[39mreshape(s[\u001B[38;5;241m0\u001B[39m], s[\u001B[38;5;241m0\u001B[39m], s[\u001B[38;5;241m2\u001B[39m], s[\u001B[38;5;241m3\u001B[39m]) \u001B[38;5;66;03m#recuperar misma talla que input de pooling\u001B[39;00m\n\u001B[0;32m    433\u001B[0m dc[\u001B[38;5;241m-\u001B[39m\u001B[38;5;241m1\u001B[39m] \u001B[38;5;241m+\u001B[39m\u001B[38;5;241m=\u001B[39m \u001B[38;5;28mself\u001B[39m\u001B[38;5;241m.\u001B[39mconvolution(activationsconv[\u001B[38;5;28mself\u001B[39m\u001B[38;5;241m.\u001B[39mnbconv\u001B[38;5;241m-\u001B[39m\u001B[38;5;241m1\u001B[39m], delta)\u001B[38;5;241m.\u001B[39mreshape(\u001B[38;5;28mself\u001B[39m\u001B[38;5;241m.\u001B[39mlenkernel, \u001B[38;5;28mself\u001B[39m\u001B[38;5;241m.\u001B[39mlenkernel, s[\u001B[38;5;241m2\u001B[39m], s[\u001B[38;5;241m3\u001B[39m])\n\u001B[0;32m    435\u001B[0m \u001B[38;5;28;01mfor\u001B[39;00m c \u001B[38;5;129;01min\u001B[39;00m \u001B[38;5;28mrange\u001B[39m(\u001B[38;5;28mself\u001B[39m\u001B[38;5;241m.\u001B[39mnbconv \u001B[38;5;241m-\u001B[39m \u001B[38;5;241m2\u001B[39m, \u001B[38;5;241m-\u001B[39m\u001B[38;5;241m1\u001B[39m, \u001B[38;5;241m-\u001B[39m\u001B[38;5;241m1\u001B[39m):\n",
      "File \u001B[1;32m~\\PycharmProjects\\PERCEPTRON\\SuperCNN.py:393\u001B[0m, in \u001B[0;36mCNN.backpool\u001B[1;34m(self, dapres, dimsortie)\u001B[0m\n\u001B[0;32m    390\u001B[0m             ldebut \u001B[38;5;241m=\u001B[39m l \u001B[38;5;241m*\u001B[39m \u001B[38;5;28mself\u001B[39m\u001B[38;5;241m.\u001B[39mpoolstride\n\u001B[0;32m    391\u001B[0m             lfin \u001B[38;5;241m=\u001B[39m ldebut \u001B[38;5;241m+\u001B[39m \u001B[38;5;28mself\u001B[39m\u001B[38;5;241m.\u001B[39mlenkernelpool\n\u001B[1;32m--> 393\u001B[0m             out[hdebut:hfin, ldebut:lfin, d] \u001B[38;5;241m+\u001B[39m\u001B[38;5;241m=\u001B[39m \u001B[43mnp\u001B[49m\u001B[38;5;241;43m.\u001B[39;49m\u001B[43mfull\u001B[49m\u001B[43m(\u001B[49m\u001B[43m(\u001B[49m\u001B[38;5;28;43mself\u001B[39;49m\u001B[38;5;241;43m.\u001B[39;49m\u001B[43mlenkernelpool\u001B[49m\u001B[43m,\u001B[49m\u001B[43m \u001B[49m\u001B[38;5;28;43mself\u001B[39;49m\u001B[38;5;241;43m.\u001B[39;49m\u001B[43mlenkernelpool\u001B[49m\u001B[43m)\u001B[49m\u001B[43m \u001B[49m\u001B[43m,\u001B[49m\u001B[43m \u001B[49m\u001B[43mdapres\u001B[49m\u001B[43m[\u001B[49m\u001B[43mh\u001B[49m\u001B[43m,\u001B[49m\u001B[43ml\u001B[49m\u001B[43m,\u001B[49m\u001B[43md\u001B[49m\u001B[43m]\u001B[49m\u001B[43m \u001B[49m\u001B[38;5;241;43m/\u001B[39;49m\u001B[43m \u001B[49m\u001B[43mlong\u001B[49m\u001B[43m)\u001B[49m \u001B[38;5;66;03m#en toda la region ponemos la media\u001B[39;00m\n\u001B[0;32m    394\u001B[0m \u001B[38;5;28;01mreturn\u001B[39;00m out\n",
      "File \u001B[1;32m~\\PycharmProjects\\PERCEPTRON\\.venv\\Lib\\site-packages\\numpy\\_core\\numeric.py:363\u001B[0m, in \u001B[0;36mfull\u001B[1;34m(shape, fill_value, dtype, order, device, like)\u001B[0m\n\u001B[0;32m    358\u001B[0m     \u001B[38;5;28;01mreturn\u001B[39;00m _full_with_like(\n\u001B[0;32m    359\u001B[0m         like, shape, fill_value, dtype\u001B[38;5;241m=\u001B[39mdtype, order\u001B[38;5;241m=\u001B[39morder, device\u001B[38;5;241m=\u001B[39mdevice\n\u001B[0;32m    360\u001B[0m     )\n\u001B[0;32m    362\u001B[0m \u001B[38;5;28;01mif\u001B[39;00m dtype \u001B[38;5;129;01mis\u001B[39;00m \u001B[38;5;28;01mNone\u001B[39;00m:\n\u001B[1;32m--> 363\u001B[0m     fill_value \u001B[38;5;241m=\u001B[39m asarray(fill_value)\n\u001B[0;32m    364\u001B[0m     dtype \u001B[38;5;241m=\u001B[39m fill_value\u001B[38;5;241m.\u001B[39mdtype\n\u001B[0;32m    365\u001B[0m a \u001B[38;5;241m=\u001B[39m empty(shape, dtype, order, device\u001B[38;5;241m=\u001B[39mdevice)\n",
      "\u001B[1;31mKeyboardInterrupt\u001B[0m: "
     ]
    }
   ],
   "execution_count": 6
  },
  {
   "metadata": {
    "jupyter": {
     "is_executing": true
    }
   },
   "cell_type": "code",
   "source": "print(g.tauxlent())",
   "id": "9442ed225965e4df",
   "outputs": [],
   "execution_count": null
  },
  {
   "metadata": {},
   "cell_type": "code",
   "source": [
    "import pickle\n",
    "\n",
    "with open('parameters.pickle', 'wb') as file:\n",
    "    pickle.dump(g.parameters, file)\n"
   ],
   "id": "bb30b135970a108d",
   "outputs": [],
   "execution_count": null
  },
  {
   "metadata": {},
   "cell_type": "code",
   "source": "",
   "id": "9a764178d9934460",
   "outputs": [],
   "execution_count": null
  }
 ],
 "metadata": {
  "kernelspec": {
   "display_name": "Python 3",
   "language": "python",
   "name": "python3"
  },
  "language_info": {
   "codemirror_mode": {
    "name": "ipython",
    "version": 2
   },
   "file_extension": ".py",
   "mimetype": "text/x-python",
   "name": "python",
   "nbconvert_exporter": "python",
   "pygments_lexer": "ipython2",
   "version": "2.7.6"
  }
 },
 "nbformat": 4,
 "nbformat_minor": 5
}
