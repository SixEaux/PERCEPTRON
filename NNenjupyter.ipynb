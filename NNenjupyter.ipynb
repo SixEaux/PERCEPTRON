{
 "cells": [
  {
   "cell_type": "code",
   "id": "1ee68c5b5330669b",
   "metadata": {
    "ExecuteTime": {
     "end_time": "2025-04-01T11:03:15.163692Z",
     "start_time": "2025-04-01T11:03:15.156313Z"
    }
   },
   "source": [
    "from SuperCNN import CNN\n",
    "\n",
    "from SuperCNN import Parametros\n",
    "\n",
    "from Auxiliares import takeinputs\n"
   ],
   "outputs": [],
   "execution_count": 6
  },
  {
   "metadata": {
    "collapsed": true,
    "ExecuteTime": {
     "end_time": "2025-04-01T11:03:32.759616Z",
     "start_time": "2025-04-01T11:03:20.275867Z"
    }
   },
   "cell_type": "code",
   "source": [
    "val, pix, qcmval, qcmpix, pixelsconv, qcmpixconv = takeinputs()\n",
    "\n",
    "convlay = [(1, \"input\"), (32, \"relu\")]\n",
    "\n",
    "lay = [(64, \"sigmoid\"), (10, \"softmax\")]\n",
    "\n",
    "parametros = Parametros(pix=pix, vales=val, qcmpix=qcmpix, qcmval=qcmval, infolay=lay, infoconvlay=convlay, padding=0, convrapide=True)"
   ],
   "id": "initial_id",
   "outputs": [],
   "execution_count": 7
  },
  {
   "metadata": {
    "ExecuteTime": {
     "end_time": "2025-04-01T11:04:43.002617Z",
     "start_time": "2025-04-01T11:04:41.608231Z"
    }
   },
   "cell_type": "code",
   "source": [
    "g = CNN(parametros)\n",
    "\n",
    "g.train()\n"
   ],
   "id": "a14e89c236f71e16",
   "outputs": [
    {
     "ename": "TypeError",
     "evalue": "exceptions must derive from BaseException",
     "output_type": "error",
     "traceback": [
      "\u001B[1;31m---------------------------------------------------------------------------\u001B[0m",
      "\u001B[1;31mTypeError\u001B[0m                                 Traceback (most recent call last)",
      "Cell \u001B[1;32mIn[9], line 1\u001B[0m\n\u001B[1;32m----> 1\u001B[0m g \u001B[38;5;241m=\u001B[39m \u001B[43mCNN\u001B[49m\u001B[43m(\u001B[49m\u001B[43mparametros\u001B[49m\u001B[43m)\u001B[49m\n\u001B[0;32m      3\u001B[0m g\u001B[38;5;241m.\u001B[39mtrain()\n",
      "File \u001B[1;32m~\\PycharmProjects\\PERCEPTRON\\SuperCNN.py:102\u001B[0m, in \u001B[0;36mCNN.__init__\u001B[1;34m(self, par)\u001B[0m\n\u001B[0;32m     99\u001B[0m \u001B[38;5;28mself\u001B[39m\u001B[38;5;241m.\u001B[39mqcmpix \u001B[38;5;241m=\u001B[39m \u001B[38;5;28mself\u001B[39m\u001B[38;5;241m.\u001B[39mprocessdata(par\u001B[38;5;241m.\u001B[39mqcmpix, par\u001B[38;5;241m.\u001B[39mcolor, \u001B[38;5;28;01mTrue\u001B[39;00m, \u001B[38;5;28mself\u001B[39m\u001B[38;5;241m.\u001B[39mnbconv\u001B[38;5;241m>\u001B[39m\u001B[38;5;241m0\u001B[39m)\n\u001B[0;32m    100\u001B[0m \u001B[38;5;28mself\u001B[39m\u001B[38;5;241m.\u001B[39mqcmval \u001B[38;5;241m=\u001B[39m par\u001B[38;5;241m.\u001B[39mqcmval\n\u001B[1;32m--> 102\u001B[0m \u001B[38;5;28mself\u001B[39m\u001B[38;5;241m.\u001B[39mparameters \u001B[38;5;241m=\u001B[39m \u001B[38;5;28;43mself\u001B[39;49m\u001B[38;5;241;43m.\u001B[39;49m\u001B[43mparams\u001B[49m\u001B[43m(\u001B[49m\u001B[43mpar\u001B[49m\u001B[38;5;241;43m.\u001B[39;49m\u001B[43minfolay\u001B[49m\u001B[43m,\u001B[49m\u001B[43m \u001B[49m\u001B[43mpar\u001B[49m\u001B[38;5;241;43m.\u001B[39;49m\u001B[43minfoconvlay\u001B[49m\u001B[43m)\u001B[49m \u001B[38;5;66;03m#creer les parametres dans un dico/ infolay doit avoir tout au debut la longueur de l'input\u001B[39;00m\n\u001B[0;32m    103\u001B[0m \u001B[38;5;28mself\u001B[39m\u001B[38;5;241m.\u001B[39mdimweights \u001B[38;5;241m=\u001B[39m [(par\u001B[38;5;241m.\u001B[39minfolay[l][\u001B[38;5;241m0\u001B[39m], par\u001B[38;5;241m.\u001B[39minfolay[l\u001B[38;5;241m-\u001B[39m\u001B[38;5;241m1\u001B[39m][\u001B[38;5;241m0\u001B[39m]) \u001B[38;5;28;01mfor\u001B[39;00m l \u001B[38;5;129;01min\u001B[39;00m \u001B[38;5;28mrange\u001B[39m(\u001B[38;5;241m1\u001B[39m, \u001B[38;5;28mlen\u001B[39m(par\u001B[38;5;241m.\u001B[39minfolay))] \u001B[38;5;66;03m#dimensiones pesos para backprop\u001B[39;00m\n\u001B[0;32m    105\u001B[0m \u001B[38;5;28mself\u001B[39m\u001B[38;5;241m.\u001B[39merrorfunc \u001B[38;5;241m=\u001B[39m \u001B[38;5;28mself\u001B[39m\u001B[38;5;241m.\u001B[39mgeterrorfunc(par\u001B[38;5;241m.\u001B[39merrorfunc) \u001B[38;5;66;03m#choisir la fonction d'erreur\u001B[39;00m\n",
      "File \u001B[1;32m~\\PycharmProjects\\PERCEPTRON\\SuperCNN.py:160\u001B[0m, in \u001B[0;36mCNN.params\u001B[1;34m(self, infolay, infoconvlay)\u001B[0m\n\u001B[0;32m    158\u001B[0m     param[\u001B[38;5;124m\"\u001B[39m\u001B[38;5;124mw\u001B[39m\u001B[38;5;124m\"\u001B[39m \u001B[38;5;241m+\u001B[39m \u001B[38;5;28mstr\u001B[39m(l\u001B[38;5;241m-\u001B[39m\u001B[38;5;241m1\u001B[39m)] \u001B[38;5;241m=\u001B[39m np\u001B[38;5;241m.\u001B[39mrandom\u001B[38;5;241m.\u001B[39muniform(\u001B[38;5;241m-\u001B[39m\u001B[38;5;241m1\u001B[39m, \u001B[38;5;241m1\u001B[39m, (infolay[l][\u001B[38;5;241m0\u001B[39m], infolay[l\u001B[38;5;241m-\u001B[39m\u001B[38;5;241m1\u001B[39m][\u001B[38;5;241m0\u001B[39m])) \u001B[38;5;66;03m#nbneurons * nbinput\u001B[39;00m\n\u001B[0;32m    159\u001B[0m     param[\u001B[38;5;124m\"\u001B[39m\u001B[38;5;124mb\u001B[39m\u001B[38;5;124m\"\u001B[39m \u001B[38;5;241m+\u001B[39m \u001B[38;5;28mstr\u001B[39m(l\u001B[38;5;241m-\u001B[39m\u001B[38;5;241m1\u001B[39m)] \u001B[38;5;241m=\u001B[39m np\u001B[38;5;241m.\u001B[39mrandom\u001B[38;5;241m.\u001B[39mrand(infolay[l][\u001B[38;5;241m0\u001B[39m], \u001B[38;5;241m1\u001B[39m) \u001B[38;5;241m-\u001B[39m \u001B[38;5;241m0.5\u001B[39m\n\u001B[1;32m--> 160\u001B[0m     param[\u001B[38;5;124m\"\u001B[39m\u001B[38;5;124mfct\u001B[39m\u001B[38;5;124m\"\u001B[39m \u001B[38;5;241m+\u001B[39m \u001B[38;5;28mstr\u001B[39m(l\u001B[38;5;241m-\u001B[39m\u001B[38;5;241m1\u001B[39m)] \u001B[38;5;241m=\u001B[39m \u001B[38;5;28;43mself\u001B[39;49m\u001B[38;5;241;43m.\u001B[39;49m\u001B[43mgetfct\u001B[49m\u001B[43m(\u001B[49m\u001B[43minfolay\u001B[49m\u001B[43m[\u001B[49m\u001B[43ml\u001B[49m\u001B[43m]\u001B[49m\u001B[43m[\u001B[49m\u001B[38;5;241;43m1\u001B[39;49m\u001B[43m]\u001B[49m\u001B[43m)\u001B[49m[\u001B[38;5;241m0\u001B[39m]\n\u001B[0;32m    161\u001B[0m     param[\u001B[38;5;124m\"\u001B[39m\u001B[38;5;124mdiff\u001B[39m\u001B[38;5;124m\"\u001B[39m \u001B[38;5;241m+\u001B[39m \u001B[38;5;28mstr\u001B[39m(l\u001B[38;5;241m-\u001B[39m\u001B[38;5;241m1\u001B[39m)] \u001B[38;5;241m=\u001B[39m \u001B[38;5;28mself\u001B[39m\u001B[38;5;241m.\u001B[39mgetfct(infolay[l][\u001B[38;5;241m1\u001B[39m])[\u001B[38;5;241m1\u001B[39m]\n\u001B[0;32m    163\u001B[0m \u001B[38;5;28;01mreturn\u001B[39;00m param\n",
      "File \u001B[1;32m~\\PycharmProjects\\PERCEPTRON\\SuperCNN.py:245\u001B[0m, in \u001B[0;36mCNN.getfct\u001B[1;34m(self, acti)\u001B[0m\n\u001B[0;32m    242\u001B[0m     \u001B[38;5;28;01mreturn\u001B[39;00m [leakyrelu, leakyreludif]\n\u001B[0;32m    244\u001B[0m \u001B[38;5;28;01melse\u001B[39;00m:\n\u001B[1;32m--> 245\u001B[0m     \u001B[38;5;28;01mraise\u001B[39;00m \u001B[38;5;124m\"\u001B[39m\u001B[38;5;124mYou forgot to specify the activation function\u001B[39m\u001B[38;5;124m\"\u001B[39m\n",
      "\u001B[1;31mTypeError\u001B[0m: exceptions must derive from BaseException"
     ]
    }
   ],
   "execution_count": 9
  },
  {
   "metadata": {
    "ExecuteTime": {
     "end_time": "2025-04-01T10:48:14.702301400Z",
     "start_time": "2025-03-31T19:23:40.837541Z"
    }
   },
   "cell_type": "code",
   "source": "print(g.tauxlent())",
   "id": "9442ed225965e4df",
   "outputs": [
    {
     "name": "stdout",
     "output_type": "stream",
     "text": [
      "89.91\n"
     ]
    }
   ],
   "execution_count": 5
  },
  {
   "metadata": {},
   "cell_type": "code",
   "source": [
    "import pickle\n",
    "\n",
    "with open('parameters.pickle', 'wb') as file:\n",
    "    pickle.dump(g.parameters, file)\n"
   ],
   "id": "bb30b135970a108d",
   "outputs": [],
   "execution_count": null
  },
  {
   "metadata": {},
   "cell_type": "code",
   "source": "",
   "id": "9a764178d9934460",
   "outputs": [],
   "execution_count": null
  }
 ],
 "metadata": {
  "kernelspec": {
   "display_name": "Python 3",
   "language": "python",
   "name": "python3"
  },
  "language_info": {
   "codemirror_mode": {
    "name": "ipython",
    "version": 2
   },
   "file_extension": ".py",
   "mimetype": "text/x-python",
   "name": "python",
   "nbconvert_exporter": "python",
   "pygments_lexer": "ipython2",
   "version": "2.7.6"
  }
 },
 "nbformat": 4,
 "nbformat_minor": 5
}
