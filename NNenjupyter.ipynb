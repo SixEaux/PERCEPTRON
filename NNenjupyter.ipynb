{
 "cells": [
  {
   "cell_type": "code",
   "id": "1ee68c5b5330669b",
   "metadata": {
    "ExecuteTime": {
     "end_time": "2025-03-29T18:48:02.407999Z",
     "start_time": "2025-03-29T18:48:02.392125Z"
    }
   },
   "source": [
    "from SuperCNN import CNN\n",
    "\n",
    "from SuperCNN import Parametros\n",
    "\n",
    "from Auxiliares import takeinputs\n"
   ],
   "outputs": [],
   "execution_count": 6
  },
  {
   "metadata": {
    "collapsed": true,
    "ExecuteTime": {
     "end_time": "2025-03-29T18:48:08.202681Z",
     "start_time": "2025-03-29T18:48:02.941149Z"
    }
   },
   "cell_type": "code",
   "source": [
    "val, pix, qcmval, qcmpix, pixelsconv, qcmpixconv = takeinputs()\n",
    "\n",
    "convlay = [(1, \"input\"), (3, \"relu\")]\n",
    "\n",
    "lay = [(64, \"sigmoid\"), (10, \"softmax\")]\n",
    "\n",
    "parametros = Parametros(pix=pix, vales=val, qcmpix=qcmpix, qcmval=qcmval, infolay=lay, infoconvlay=convlay, padding=0, convrapide=False)"
   ],
   "id": "initial_id",
   "outputs": [],
   "execution_count": 7
  },
  {
   "metadata": {
    "ExecuteTime": {
     "end_time": "2025-03-29T19:05:08.803585Z",
     "start_time": "2025-03-29T18:48:08.202681Z"
    }
   },
   "cell_type": "code",
   "source": [
    "g = CNN(parametros)\n",
    "\n",
    "g.train()\n"
   ],
   "id": "a14e89c236f71e16",
   "outputs": [
    {
     "name": "stdout",
     "output_type": "stream",
     "text": [
      "Percentage: 0.0\n",
      "Percentage: 1.6666666666666667\n",
      "Percentage: 3.3333333333333335\n",
      "Percentage: 5.0\n",
      "Percentage: 6.666666666666667\n",
      "Percentage: 8.333333333333334\n",
      "Percentage: 10.0\n",
      "Percentage: 11.666666666666666\n",
      "Percentage: 13.333333333333334\n",
      "Percentage: 15.0\n",
      "Percentage: 16.666666666666668\n",
      "Percentage: 18.333333333333332\n",
      "Percentage: 20.0\n",
      "Percentage: 21.666666666666668\n",
      "Percentage: 23.333333333333332\n",
      "Percentage: 25.0\n",
      "Percentage: 26.666666666666668\n",
      "Percentage: 28.333333333333332\n",
      "Percentage: 30.0\n",
      "Percentage: 31.666666666666668\n",
      "Percentage: 33.333333333333336\n",
      "Percentage: 35.0\n",
      "Percentage: 36.666666666666664\n",
      "Percentage: 38.333333333333336\n",
      "Percentage: 40.0\n",
      "Percentage: 41.666666666666664\n",
      "Percentage: 43.333333333333336\n",
      "Percentage: 45.0\n",
      "Percentage: 46.666666666666664\n",
      "Percentage: 48.333333333333336\n",
      "Percentage: 50.0\n",
      "Percentage: 51.666666666666664\n",
      "Percentage: 53.333333333333336\n",
      "Percentage: 55.0\n",
      "Percentage: 56.666666666666664\n",
      "Percentage: 58.333333333333336\n",
      "Percentage: 60.0\n",
      "Percentage: 61.666666666666664\n",
      "Percentage: 63.333333333333336\n",
      "Percentage: 65.0\n",
      "Percentage: 66.66666666666667\n",
      "Percentage: 68.33333333333333\n",
      "Percentage: 70.0\n",
      "Percentage: 71.66666666666667\n",
      "Percentage: 73.33333333333333\n",
      "Percentage: 75.0\n",
      "Percentage: 76.66666666666667\n",
      "Percentage: 78.33333333333333\n",
      "Percentage: 80.0\n",
      "Percentage: 81.66666666666667\n",
      "Percentage: 83.33333333333333\n",
      "Percentage: 85.0\n",
      "Percentage: 86.66666666666667\n",
      "Percentage: 88.33333333333333\n",
      "Percentage: 90.0\n",
      "Percentage: 91.66666666666667\n",
      "Percentage: 93.33333333333333\n",
      "Percentage: 95.0\n",
      "Percentage: 96.66666666666667\n",
      "Percentage: 98.33333333333333\n"
     ]
    }
   ],
   "execution_count": 8
  },
  {
   "metadata": {
    "ExecuteTime": {
     "end_time": "2025-03-29T19:07:35.812544Z",
     "start_time": "2025-03-29T19:05:08.942863Z"
    }
   },
   "cell_type": "code",
   "source": "print(g.tauxlent())",
   "id": "9442ed225965e4df",
   "outputs": [
    {
     "name": "stdout",
     "output_type": "stream",
     "text": [
      "90.78\n"
     ]
    }
   ],
   "execution_count": 9
  },
  {
   "metadata": {},
   "cell_type": "code",
   "outputs": [],
   "execution_count": null,
   "source": "",
   "id": "bb30b135970a108d"
  }
 ],
 "metadata": {
  "kernelspec": {
   "display_name": "Python 3",
   "language": "python",
   "name": "python3"
  },
  "language_info": {
   "codemirror_mode": {
    "name": "ipython",
    "version": 2
   },
   "file_extension": ".py",
   "mimetype": "text/x-python",
   "name": "python",
   "nbconvert_exporter": "python",
   "pygments_lexer": "ipython2",
   "version": "2.7.6"
  }
 },
 "nbformat": 4,
 "nbformat_minor": 5
}
